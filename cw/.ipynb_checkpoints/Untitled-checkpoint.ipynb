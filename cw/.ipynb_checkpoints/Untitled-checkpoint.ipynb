{
 "cells": [
  {
   "cell_type": "markdown",
   "metadata": {},
   "source": [
    "## Курсовая работа\n",
    "\n",
    "### по курсу \"Численные методы\"\n",
    "\n",
    "#### Тема: \"Численное решение интегральных уравнений Вольтерра 2-го рода.\"\n",
    "\n",
    "Выполнила: Вельтман Л.Я.\n",
    "\n",
    "Преподаватель: Ревизников Д."
   ]
  },
  {
   "cell_type": "markdown",
   "metadata": {},
   "source": [
    "Метод последовательных приближений\n",
    "\n",
    "$y_1(x) = lyambda integr K(x,t)y_0(t)dt + f(x)$\n",
    "\n",
    "$y_2(x) = lyambda integr K(x,t)y_1(t)dt + f(x)$\n",
    "\n",
    "\\dots\n",
    "$y_n(x) = lyambda integr K(x,t)y_n-1(t)dt + f(x)$"
   ]
  },
  {
   "cell_type": "markdown",
   "metadata": {},
   "source": [
    "Отметим, что ядро K(x, s, y(s)) интегрального уравнения зависит от искомой функции y(x). Предположим, что ядро и правая часть это- го уравнения таковы, что его решение существует и единственно в классе непрерывных на отрезке [a, b] функций. Построим метод при- ближенного решения уравнения (1), основанный на аппроксимации интеграла с помощью квадратурной формулы."
   ]
  },
  {
   "cell_type": "markdown",
   "metadata": {},
   "source": [
    "\n",
    "Пусть на отрезке [a, b] задана сетка с узлами xi, i = 1, 2, ..., n.\n",
    "Зафиксируем в уравнении (1) значения переменной x в узлах сетки.\n",
    "Получим следующие равенства:"
   ]
  },
  {
   "cell_type": "code",
   "execution_count": null,
   "metadata": {},
   "outputs": [],
   "source": [
    "y(xi)− K(xi,s,y(s))ds=f(xi), i=1,2,...,n. (2)"
   ]
  },
  {
   "cell_type": "code",
   "execution_count": null,
   "metadata": {},
   "outputs": [],
   "source": []
  },
  {
   "cell_type": "code",
   "execution_count": null,
   "metadata": {},
   "outputs": [],
   "source": [
    "import matplotlib\n",
    "import "
   ]
  },
  {
   "cell_type": "markdown",
   "metadata": {},
   "source": [
    "Зададим правую часть - функцию f"
   ]
  },
  {
   "cell_type": "code",
   "execution_count": null,
   "metadata": {},
   "outputs": [],
   "source": [
    "def f(x):\n",
    "    return exp(x * x) "
   ]
  },
  {
   "cell_type": "code",
   "execution_count": null,
   "metadata": {},
   "outputs": [],
   "source": [
    "def K(x, s):\n",
    "    return exp(x * x - s * s)"
   ]
  },
  {
   "cell_type": "code",
   "execution_count": null,
   "metadata": {},
   "outputs": [],
   "source": [
    "def method_posled_approximation():\n",
    "    y[0] = 1\n",
    "    for i in range(1, len(y)):\n",
    "        y[i] = lyambda * integral(K(x,t)*y[i-1]) + f(x)\n",
    "    return lim(y[len(y)])\n",
    "\n",
    "\n"
   ]
  },
  {
   "cell_type": "code",
   "execution_count": null,
   "metadata": {},
   "outputs": [],
   "source": [
    "def linear_volttera_second(a, b, n):\n",
    "    h = (b - a) / (n - 1)\n",
    "        \n",
    "    x=[a:b:h]\n",
    "    \n",
    "    y[0] = f(x[0])\n",
    "    \n",
    "    for i in range(1, n):\n",
    "        s=0\n",
    "        if i > 0:\n",
    "            for j range(1, i-1):\n",
    "                s += K(x[i], x[j]) * y[j]\n",
    "        y[i] = (1 / (1 - h/2 * K(x[i], x[i])) * (f(x[i]) + h/2 * K(x[i], x[1]) * y[1] + h * s))"
   ]
  },
  {
   "cell_type": "code",
   "execution_count": null,
   "metadata": {},
   "outputs": [],
   "source": [
    "def nonlinear_volttera_second(a, b):\n",
    "    h = (b - a) / (n - 1)\n",
    "    \n",
    "    x=[a:b:h]\n",
    "\n",
    "    n = len(x[0])\n",
    "    y[0] = f(x[0])\n",
    "\n",
    "    for i in range(1, n):\n",
    "        s = 0\n",
    "        for j in range(0, i - 1):\n",
    "            s += h * K(x[i], x[j]) * (y[j] * y[j])\n",
    "        y[i] = (1 - (1 - 4 * (h/2) * (f(x[i]) + s))**(0.5)) / h\n",
    "\n",
    "\n"
   ]
  },
  {
   "cell_type": "code",
   "execution_count": null,
   "metadata": {},
   "outputs": [],
   "source": [
    "x, y = linear_volttera_second(a, b, n)"
   ]
  },
  {
   "cell_type": "markdown",
   "metadata": {},
   "source": [
    "Solving an integral equation by reducing it to a differential equation.\n"
   ]
  },
  {
   "cell_type": "code",
   "execution_count": null,
   "metadata": {},
   "outputs": [],
   "source": [
    "def reducing_linearvolttera_to_deff_eq():\n",
    "    "
   ]
  },
  {
   "cell_type": "markdown",
   "metadata": {},
   "source": [
    "Функция для решения нелинейного уравнения\n",
    "% Вольтерра второго рода методом квадратур."
   ]
  },
  {
   "cell_type": "code",
   "execution_count": null,
   "metadata": {},
   "outputs": [],
   "source": [
    "√  % формула трапеций с равноотстоящими узлами\n",
    "% Входные данные: K - ядро уравнения, f - правая\n",
    "% часть (задаются аналитически), a - начало\n",
    "% отрезка интегрирования, b - конец отрезка, h - шаг % сетки. Результат - вектор y приближений к\n",
    "% решению в узлах сетки"
   ]
  },
  {
   "cell_type": "code",
   "execution_count": null,
   "metadata": {},
   "outputs": [],
   "source": [
    "function [y] = Nonlin_Volt_II_Rect(a,b,h,K,f) %задаем x(i)\n",
    "x=[a:h:b];\n",
    "n=size(x,2);\n",
    "%вычисляем y(i)\n",
    "y(1)=f(x(1)); for i=2:n\n",
    "s=0;\n",
    "for j=1:1:(i-1)\n",
    "s=s+h*K(x(i),x(j))*(y(j)*y(j)); end\n",
    "y(i)=(1-sqrt(1-4*(h/2)*(f(x(i))+s)))/h; end\n",
    "end"
   ]
  },
  {
   "cell_type": "code",
   "execution_count": null,
   "metadata": {},
   "outputs": [],
   "source": [
    "def "
   ]
  }
 ],
 "metadata": {
  "kernelspec": {
   "display_name": "Python 2",
   "language": "python",
   "name": "python2"
  },
  "language_info": {
   "codemirror_mode": {
    "name": "ipython",
    "version": 2
   },
   "file_extension": ".py",
   "mimetype": "text/x-python",
   "name": "python",
   "nbconvert_exporter": "python",
   "pygments_lexer": "ipython2",
   "version": "2.7.15"
  }
 },
 "nbformat": 4,
 "nbformat_minor": 4
}
