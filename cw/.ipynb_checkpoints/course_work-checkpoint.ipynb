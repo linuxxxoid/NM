{
 "cells": [
  {
   "cell_type": "markdown",
   "metadata": {},
   "source": [
    "\n",
    "\n",
    "\n",
    "##          Московский авиационный институт\n",
    "###      (Национальный исследовательский университет)\n",
    "####   Институт №8 «Информационные технологии и прикладная математика»\n",
    "####        Кафедра вычислительной математики и программирования\n",
    "  \n",
    " \n",
    " \n",
    "\n",
    "            Курсовая работа\n",
    "            по курсу «Численные методы».\n",
    "            Тема: «Линейные уравнения Вольтерра 2-го рода».\n",
    "\n",
    " \n",
    " \n",
    " \n",
    "\n",
    "\n",
    "\n",
    "\n",
    "\n",
    "\n",
    "\n",
    "                                  Студент: Вельтман Л.Я.\n",
    "                                  Группа: 80-307Б\n",
    "                                  Преподаватель: Ревизников Д.Л.\n",
    "\n",
    "\n",
    " \n",
    "\n",
    "                        Москва, 2020"
   ]
  },
  {
   "cell_type": "markdown",
   "metadata": {},
   "source": [
    "## Решение линейного уравнения Вольтерра 2-го рода\n",
    "\n",
    "#### Квадратурный метод"
   ]
  },
  {
   "cell_type": "markdown",
   "metadata": {},
   "source": [
    "Линейное уравнение Вольтерра II рода имеет следующий вид:\n",
    "\n",
    "$$ y(x) - \\int_a^x K(x, s) y(s) ds = f(x), x \\in [a, b]$$\n",
    "\n",
    "Здесь $y(x)$ — неизвестная функция,\n",
    "\n",
    "$K(x, s)$ — ядро интегрального уравнения, \n",
    "\n",
    "$f(x)$ — свободный член (правая часть) интегрального уравнения.\n",
    "\n",
    "Это уравнение является частным случаем уравнения Фредгольма, а именно тем случаем, когда $K(x, s) = 0$, при $x > s$, то есть когда ядро обращается в нуль в половине квадрата $k_0$, лежащей с одной стороны от его диагонали $t = s$.\n",
    "\n",
    "Считаем, что $f(x)$ - непрерывная функция в некотором промежутке $a \\leqslant x \\leqslant b$ и $K(x, s)$ - непрерывная функция."
   ]
  },
  {
   "cell_type": "markdown",
   "metadata": {},
   "source": [
    "Решение существует и единственно в классе непрерывных на отрезке $[a, b] $ функций, если ядро непрерывно внутри и на\n",
    "сторонах треугольника, ограниченного прямыми\n",
    "\n",
    "$s = a,\n",
    "x = b,\n",
    "x = s,$\n",
    "\n",
    "а функция $f(x)$ непрерывна на $[a, b]$"
   ]
  },
  {
   "cell_type": "markdown",
   "metadata": {},
   "source": [
    "При численном решении интегральных уравнений входящие в них интегралы обычно заменяют конечными суммами. Согласно методу квадратур интегральные операторы заменяют суммами, полученными с помощью различных квадратурных формул. "
   ]
  },
  {
   "cell_type": "markdown",
   "metadata": {},
   "source": [
    "Пусть для вычисления интегрального члена в последнем равенстве взята квадратурная формула с узлами $s_0, s_1, \\dots, s_k$"
   ]
  },
  {
   "cell_type": "markdown",
   "metadata": {},
   "source": [
    "$$\\int_a^{s_k} K({s_k}, s)\\cdot u(s)ds = h \\sum_{j=0}^k A^{(n)}_{kj}\\cdot K(s_k, s_j) \\cdot u(s_j) + R^{(n)}_k (u)$$"
   ]
  },
  {
   "cell_type": "markdown",
   "metadata": {},
   "source": [
    "Где $ R^{(n)}_k (u) $ погрешность используемовй квадратурной формулы и коэффициенты $A^{(n)}_{kj}$ квадратурной формулы не зависят от h. "
   ]
  },
  {
   "cell_type": "code",
   "execution_count": 1,
   "metadata": {},
   "outputs": [],
   "source": [
    "import numpy as np\n",
    "import math\n",
    "import matplotlib.pyplot as plt"
   ]
  },
  {
   "cell_type": "markdown",
   "metadata": {},
   "source": [
    "Зададим интегральное уравнение Вольтерра II рода:\n",
    "\n",
    "$ \\varphi (x) = sin(x) + \\int_0^x (x - t) \\varphi (t)ds $"
   ]
  },
  {
   "cell_type": "code",
   "execution_count": 2,
   "metadata": {},
   "outputs": [],
   "source": [
    "def f(x):\n",
    "    return math.sin(x)"
   ]
  },
  {
   "cell_type": "markdown",
   "metadata": {},
   "source": [
    "Ядро"
   ]
  },
  {
   "cell_type": "code",
   "execution_count": 3,
   "metadata": {},
   "outputs": [],
   "source": [
    "def K(x, s):\n",
    "    return (x - s)"
   ]
  },
  {
   "cell_type": "markdown",
   "metadata": {},
   "source": [
    "Точное решение"
   ]
  },
  {
   "cell_type": "code",
   "execution_count": 4,
   "metadata": {},
   "outputs": [],
   "source": [
    "def f_correct(x):\n",
    "    return 1/2 * math.sinh(x) + 1/2 * math.sin(x)"
   ]
  },
  {
   "cell_type": "code",
   "execution_count": 5,
   "metadata": {},
   "outputs": [],
   "source": [
    "def linear_volterra_2(a, b, n):\n",
    "    h = (b - a) / (n - 1)\n",
    "    \n",
    "    x = list(np.arange(a, b + h, h))\n",
    "    phi = [f(a)]\n",
    "    \n",
    "    for i in range(1, n):\n",
    "        s = 0\n",
    "        j = 0\n",
    "        \n",
    "        while (j < i):\n",
    "            s += K(x[i], x[j]) * phi[j]\n",
    "            j += 1\n",
    "            \n",
    "        phi.append((1 / (1 - h/2 * K(x[i], x[i]))) * (f(x[i]) + h/2 * K(x[i], x[0]) * phi[0] + h * s))\n",
    "    return x, phi\n"
   ]
  },
  {
   "cell_type": "markdown",
   "metadata": {},
   "source": [
    "Вычисление погрешности"
   ]
  },
  {
   "cell_type": "code",
   "execution_count": 6,
   "metadata": {},
   "outputs": [],
   "source": [
    "def error(y, res):\n",
    "    norm = sum((res[i] - y[i])**2 for i in range(len(x)))\n",
    "    return norm**0.5"
   ]
  },
  {
   "cell_type": "markdown",
   "metadata": {},
   "source": [
    "Зададим сегмент, на котором нужно найти решение линейного интегрального уравнения Вольтерра II рода"
   ]
  },
  {
   "cell_type": "code",
   "execution_count": 7,
   "metadata": {},
   "outputs": [],
   "source": [
    "a = 0.0\n",
    "b = 1.0\n",
    "n = 5 # количество подсегментов отрезка"
   ]
  },
  {
   "cell_type": "code",
   "execution_count": 8,
   "metadata": {},
   "outputs": [],
   "source": [
    "x, fita = linear_volterra_2(a, b, n)"
   ]
  },
  {
   "cell_type": "markdown",
   "metadata": {},
   "source": [
    "Сетка"
   ]
  },
  {
   "cell_type": "code",
   "execution_count": 9,
   "metadata": {},
   "outputs": [
    {
     "data": {
      "text/plain": [
       "[0.0, 0.25, 0.5, 0.75, 1.0]"
      ]
     },
     "execution_count": 9,
     "metadata": {},
     "output_type": "execute_result"
    }
   ],
   "source": [
    "x"
   ]
  },
  {
   "cell_type": "markdown",
   "metadata": {},
   "source": [
    "Полученные значения решения интегрального линейного уравнения Вольтерра 2 рода."
   ]
  },
  {
   "cell_type": "code",
   "execution_count": 10,
   "metadata": {},
   "outputs": [
    {
     "data": {
      "text/plain": [
       "[0.0,\n",
       " 0.24740395925452294,\n",
       " 0.4948882860576107,\n",
       " 0.7434947728087503,\n",
       " 0.9961886862258678]"
      ]
     },
     "execution_count": 10,
     "metadata": {},
     "output_type": "execute_result"
    }
   ],
   "source": [
    "fita"
   ]
  },
  {
   "cell_type": "markdown",
   "metadata": {},
   "source": [
    "Значения точного решения уравнения\n",
    "\n",
    "$ \\varphi(x) = 0.5 * \\sinh{x} + 0.5 *  \\sin{x}$"
   ]
  },
  {
   "cell_type": "code",
   "execution_count": 11,
   "metadata": {},
   "outputs": [
    {
     "data": {
      "text/plain": [
       "[0.0,\n",
       " 0.25000813803134564,\n",
       " 0.5002604220489753,\n",
       " 0.7519777459795821,\n",
       " 1.0083360892258488]"
      ]
     },
     "execution_count": 11,
     "metadata": {},
     "output_type": "execute_result"
    }
   ],
   "source": [
    "y = [f_correct(i) for i in x]\n",
    "y"
   ]
  },
  {
   "cell_type": "markdown",
   "metadata": {},
   "source": [
    "Погрешность"
   ]
  },
  {
   "cell_type": "code",
   "execution_count": 12,
   "metadata": {},
   "outputs": [
    {
     "data": {
      "text/plain": [
       "0.015973785577388013"
      ]
     },
     "execution_count": 12,
     "metadata": {},
     "output_type": "execute_result"
    }
   ],
   "source": [
    "error(y, fita)"
   ]
  },
  {
   "cell_type": "markdown",
   "metadata": {},
   "source": [
    "Посторим графики точного решения уравнения и приближенного решения уравнения методом квадратур, основанным на применении квадратурной формулы трапеций с равномерной сеткой."
   ]
  },
  {
   "cell_type": "code",
   "execution_count": 13,
   "metadata": {},
   "outputs": [
    {
     "data": {
      "text/plain": [
       "<matplotlib.legend.Legend at 0x7fa778fbf710>"
      ]
     },
     "execution_count": 13,
     "metadata": {},
     "output_type": "execute_result"
    },
    {
     "data": {
      "image/png": "[encoded data removed]",
      "text/plain": [
       "<Figure size 720x360 with 1 Axes>"
      ]
     },
     "metadata": {
      "needs_background": "light"
     },
     "output_type": "display_data"
    }
   ],
   "source": [
    "fig = plt.figure(figsize=(10, 5))\n",
    "\n",
    "plt.plot(x, fita, 'r', label = 'Linear Volterra 2')\n",
    "plt.plot(x, y, 'g', label = 'Exact solution')\n",
    "\n",
    "plt.xlabel('s')\n",
    "plt.ylabel('t')\n",
    "\n",
    "plt.title('Результаты приближенного решения линейного уравнения методом квадратур и точного решения')\n",
    "plt.legend()"
   ]
  },
  {
   "cell_type": "markdown",
   "metadata": {},
   "source": [
    "Зададим интегральное уравнение Вольтерра II рода:\n",
    "\n",
    "$ \\varphi (x) = exp^{-x} * sin(x) + \\int_0^x exp^{(x - t)} \\varphi (t)ds $"
   ]
  },
  {
   "cell_type": "code",
   "execution_count": 14,
   "metadata": {},
   "outputs": [],
   "source": [
    "def f(x):\n",
    "    return math.exp(-x) * math.sin(x)\n",
    "\n",
    "def K(x, s):\n",
    "    return (math.exp(x - s))\n",
    "\n",
    "def f_correct(x):\n",
    "    return 1/10 * math.exp(2 * x) - 1/10 * math.exp(-x) * math.cos(x) + 7/10 * math.exp(-x) * math.sin(x)"
   ]
  },
  {
   "cell_type": "code",
   "execution_count": 15,
   "metadata": {},
   "outputs": [],
   "source": [
    "a = 0.0\n",
    "b = 1\n",
    "n = 5 # количество подсегментов отрезка"
   ]
  },
  {
   "cell_type": "code",
   "execution_count": 16,
   "metadata": {},
   "outputs": [],
   "source": [
    "x1, fita1 = linear_volterra_2(a, b, n)"
   ]
  },
  {
   "cell_type": "code",
   "execution_count": 17,
   "metadata": {},
   "outputs": [
    {
     "data": {
      "text/plain": [
       "[0.0, 0.25, 0.5, 0.75, 1.0]"
      ]
     },
     "execution_count": 17,
     "metadata": {},
     "output_type": "execute_result"
    }
   ],
   "source": [
    "x1"
   ]
  },
  {
   "cell_type": "markdown",
   "metadata": {},
   "source": [
    "Решение, полученное квадратурным методом."
   ]
  },
  {
   "cell_type": "code",
   "execution_count": 18,
   "metadata": {},
   "outputs": [
    {
     "data": {
      "text/plain": [
       "[0.0,\n",
       " 0.2202038825170153,\n",
       " 0.41311215281598185,\n",
       " 0.6232670669435413,\n",
       " 0.9102310498375725]"
      ]
     },
     "execution_count": 18,
     "metadata": {},
     "output_type": "execute_result"
    }
   ],
   "source": [
    "fita1"
   ]
  },
  {
   "cell_type": "markdown",
   "metadata": {},
   "source": [
    "Точное решение."
   ]
  },
  {
   "cell_type": "code",
   "execution_count": 19,
   "metadata": {},
   "outputs": [
    {
     "data": {
      "text/plain": [
       "[0.0,\n",
       " 0.22428802983609858,\n",
       " 0.42215051157322175,\n",
       " 0.638994718067734,\n",
       " 0.9357209118156022]"
      ]
     },
     "execution_count": 19,
     "metadata": {},
     "output_type": "execute_result"
    }
   ],
   "source": [
    "y1 = [f_correct(i) for i in x1]\n",
    "y1"
   ]
  },
  {
   "cell_type": "markdown",
   "metadata": {},
   "source": [
    "Погрешность"
   ]
  },
  {
   "cell_type": "code",
   "execution_count": 20,
   "metadata": {},
   "outputs": [
    {
     "data": {
      "text/plain": [
       "0.031550978778666694"
      ]
     },
     "execution_count": 20,
     "metadata": {},
     "output_type": "execute_result"
    }
   ],
   "source": [
    "error(y1, fita1)"
   ]
  },
  {
   "cell_type": "code",
   "execution_count": 21,
   "metadata": {},
   "outputs": [
    {
     "data": {
      "text/plain": [
       "<matplotlib.legend.Legend at 0x7fa779044e48>"
      ]
     },
     "execution_count": 21,
     "metadata": {},
     "output_type": "execute_result"
    },
    {
     "data": {
      "image/png": "[encoded data removed]",
      "text/plain": [
       "<Figure size 720x360 with 1 Axes>"
      ]
     },
     "metadata": {
      "needs_background": "light"
     },
     "output_type": "display_data"
    }
   ],
   "source": [
    "fig = plt.figure(figsize=(10, 5))\n",
    "\n",
    "plt.plot(x1, fita1, 'r', label = 'Linear Volterra 2')\n",
    "plt.plot(x1, y1, 'g', label = 'Exact solution')\n",
    "\n",
    "plt.xlabel('s')\n",
    "plt.ylabel('t')\n",
    "\n",
    "plt.title('Результаты приближенного решения линейного уравнения методом квадратур и точного решения')\n",
    "plt.legend()"
   ]
  },
  {
   "cell_type": "markdown",
   "metadata": {},
   "source": [
    "Зададим интегральное уравнение Вольтерра II рода:\n",
    "\n",
    "$ \\varphi (x) = (1 - x * exp^{2x}) * cos(1) - exp^{2x} * sin(1) * sin(x) + \\int_0^x (1 - (x - t) * exp^{2x}) \\varphi (t)ds $"
   ]
  },
  {
   "cell_type": "code",
   "execution_count": 22,
   "metadata": {},
   "outputs": [],
   "source": [
    "def f(x):\n",
    "    return (1 - x * math.exp(2*x)) * math.cos(1) - math.exp(2*x) * math.sin(1)\n",
    "\n",
    "def K(x, s):\n",
    "    return (1 - (x - s) * math.exp(2*x))\n",
    "\n",
    "def f_correct(x):\n",
    "    return math.exp(x) * (math.cos(math.exp(x)) - math.exp(x) * math.sin(math.exp(x)))"
   ]
  },
  {
   "cell_type": "code",
   "execution_count": 23,
   "metadata": {},
   "outputs": [],
   "source": [
    "a = 0\n",
    "b = 1\n",
    "n = 20 # количество подсегментов отрезка20"
   ]
  },
  {
   "cell_type": "code",
   "execution_count": 24,
   "metadata": {},
   "outputs": [],
   "source": [
    "x2, fita2 = linear_volterra_2(a, b, n)"
   ]
  },
  {
   "cell_type": "code",
   "execution_count": 25,
   "metadata": {},
   "outputs": [
    {
     "data": {
      "text/plain": [
       "[0.0,\n",
       " 0.05263157894736842,\n",
       " 0.10526315789473684,\n",
       " 0.15789473684210525,\n",
       " 0.21052631578947367,\n",
       " 0.2631578947368421,\n",
       " 0.3157894736842105,\n",
       " 0.3684210526315789,\n",
       " 0.42105263157894735,\n",
       " 0.47368421052631576,\n",
       " 0.5263157894736842,\n",
       " 0.5789473684210527,\n",
       " 0.631578947368421,\n",
       " 0.6842105263157894,\n",
       " 0.7368421052631579,\n",
       " 0.7894736842105263,\n",
       " 0.8421052631578947,\n",
       " 0.894736842105263,\n",
       " 0.9473684210526315,\n",
       " 1.0]"
      ]
     },
     "execution_count": 25,
     "metadata": {},
     "output_type": "execute_result"
    }
   ],
   "source": [
    "x2"
   ]
  },
  {
   "cell_type": "markdown",
   "metadata": {},
   "source": [
    "Решение, полученное квадратурным методом."
   ]
  },
  {
   "cell_type": "code",
   "execution_count": 26,
   "metadata": {},
   "outputs": [
    {
     "data": {
      "text/plain": [
       "[-0.30116867893975674,\n",
       " -0.46067724133829774,\n",
       " -0.6284458469481579,\n",
       " -0.822335782840387,\n",
       " -1.0446718978335592,\n",
       " -1.2975434842033278,\n",
       " -1.5826088882308933,\n",
       " -1.9008359601498004,\n",
       " -2.2521644322042595,\n",
       " -2.6350753840720267,\n",
       " -3.0460530772705456,\n",
       " -3.4789263613317813,\n",
       " -3.9240816370141203,\n",
       " -4.367548466693754,\n",
       " -4.789974287884146,\n",
       " -5.1655287804654355,\n",
       " -5.460814242802372,\n",
       " -5.6339091886464265,\n",
       " -5.63374159377187,\n",
       " -5.400078277618794]"
      ]
     },
     "execution_count": 26,
     "metadata": {},
     "output_type": "execute_result"
    }
   ],
   "source": [
    "fita2"
   ]
  },
  {
   "cell_type": "markdown",
   "metadata": {},
   "source": [
    "Точное решение"
   ]
  },
  {
   "cell_type": "code",
   "execution_count": 27,
   "metadata": {},
   "outputs": [
    {
     "data": {
      "text/plain": [
       "[-0.30116867893975674,\n",
       " -0.4451746643662696,\n",
       " -0.6131135129646275,\n",
       " -0.8074612315736818,\n",
       " -1.0306121277193399,\n",
       " -1.2847360841739106,\n",
       " -1.5715839240746141,\n",
       " -1.8922282908414771,\n",
       " -2.2467259442277108,\n",
       " -2.63368638425279,\n",
       " -3.0497317645214848,\n",
       " -3.488834892042651,\n",
       " -3.9415267952024218,\n",
       " -4.39397433816485,\n",
       " -4.826943611399795,\n",
       " -5.2146888091587575,\n",
       " -5.523842007223559,\n",
       " -5.7124300352962525,\n",
       " -5.729213826876294,\n",
       " -5.5136357328723555]"
      ]
     },
     "execution_count": 27,
     "metadata": {},
     "output_type": "execute_result"
    }
   ],
   "source": [
    "y2 = [f_correct(i) for i in x2]\n",
    "y2"
   ]
  },
  {
   "cell_type": "code",
   "execution_count": 28,
   "metadata": {},
   "outputs": [
    {
     "data": {
      "text/plain": [
       "0.02990551402679303"
      ]
     },
     "execution_count": 28,
     "metadata": {},
     "output_type": "execute_result"
    }
   ],
   "source": [
    "error(y2, fita2)"
   ]
  },
  {
   "cell_type": "code",
   "execution_count": 29,
   "metadata": {},
   "outputs": [
    {
     "data": {
      "text/plain": [
       "<matplotlib.legend.Legend at 0x7fa7791e2908>"
      ]
     },
     "execution_count": 29,
     "metadata": {},
     "output_type": "execute_result"
    },
    {
     "data": {
      "image/png": "[encoded data removed]",
      "text/plain": [
       "<Figure size 720x360 with 1 Axes>"
      ]
     },
     "metadata": {
      "needs_background": "light"
     },
     "output_type": "display_data"
    }
   ],
   "source": [
    "fig = plt.figure(figsize=(10, 5))\n",
    "\n",
    "plt.plot(x2, fita2, 'r', label = 'Linear Volterra 2')\n",
    "plt.plot(x2, y2, 'g', label = 'Exact solution')\n",
    "\n",
    "plt.xlabel('s')\n",
    "plt.ylabel('t')\n",
    "\n",
    "plt.title('Результаты приближенного решения линейного уравнения методом квадратур и точного решения')\n",
    "plt.legend()"
   ]
  },
  {
   "cell_type": "markdown",
   "metadata": {},
   "source": [
    "Зададим интегральное уравнение Вольтерра II рода:\n",
    "\n",
    "$ \\varphi (x) = exp^{x^2} + \\int_0^x exp^{x^2 - t^2} \\varphi (t)ds $"
   ]
  },
  {
   "cell_type": "code",
   "execution_count": 30,
   "metadata": {},
   "outputs": [],
   "source": [
    "def f(x):\n",
    "    return math.exp(x*x)\n",
    "\n",
    "def K(x, s):\n",
    "    return math.exp(x*x - s*s)\n",
    "\n",
    "def f_correct(x):\n",
    "    return math.exp(x*x + x)"
   ]
  },
  {
   "cell_type": "code",
   "execution_count": 31,
   "metadata": {},
   "outputs": [],
   "source": [
    "a = 0\n",
    "b = 1\n",
    "n = 48 # количество подсегментов отрезка"
   ]
  },
  {
   "cell_type": "code",
   "execution_count": 32,
   "metadata": {},
   "outputs": [],
   "source": [
    "x3, fita3 = linear_volterra_2(a, b, n)"
   ]
  },
  {
   "cell_type": "code",
   "execution_count": 33,
   "metadata": {},
   "outputs": [
    {
     "data": {
      "text/plain": [
       "[0.0,\n",
       " 0.02127659574468085,\n",
       " 0.0425531914893617,\n",
       " 0.06382978723404255,\n",
       " 0.0851063829787234,\n",
       " 0.10638297872340426,\n",
       " 0.1276595744680851,\n",
       " 0.14893617021276595,\n",
       " 0.1702127659574468,\n",
       " 0.19148936170212766,\n",
       " 0.2127659574468085,\n",
       " 0.23404255319148937,\n",
       " 0.2553191489361702,\n",
       " 0.2765957446808511,\n",
       " 0.2978723404255319,\n",
       " 0.3191489361702128,\n",
       " 0.3404255319148936,\n",
       " 0.36170212765957444,\n",
       " 0.3829787234042553,\n",
       " 0.40425531914893614,\n",
       " 0.425531914893617,\n",
       " 0.44680851063829785,\n",
       " 0.46808510638297873,\n",
       " 0.48936170212765956,\n",
       " 0.5106382978723404,\n",
       " 0.5319148936170213,\n",
       " 0.5531914893617021,\n",
       " 0.5744680851063829,\n",
       " 0.5957446808510638,\n",
       " 0.6170212765957447,\n",
       " 0.6382978723404256,\n",
       " 0.6595744680851063,\n",
       " 0.6808510638297872,\n",
       " 0.7021276595744681,\n",
       " 0.7234042553191489,\n",
       " 0.7446808510638298,\n",
       " 0.7659574468085106,\n",
       " 0.7872340425531915,\n",
       " 0.8085106382978723,\n",
       " 0.8297872340425532,\n",
       " 0.851063829787234,\n",
       " 0.8723404255319148,\n",
       " 0.8936170212765957,\n",
       " 0.9148936170212766,\n",
       " 0.9361702127659575,\n",
       " 0.9574468085106382,\n",
       " 0.9787234042553191,\n",
       " 1.0]"
      ]
     },
     "execution_count": 33,
     "metadata": {},
     "output_type": "execute_result"
    }
   ],
   "source": [
    "x3"
   ]
  },
  {
   "cell_type": "markdown",
   "metadata": {},
   "source": [
    "Решение, полученное квадратурным методом."
   ]
  },
  {
   "cell_type": "code",
   "execution_count": 34,
   "metadata": {},
   "outputs": [
    {
     "data": {
      "text/plain": [
       "[1.0,\n",
       " 1.0434830237929362,\n",
       " 1.067372112389178,\n",
       " 1.0927970649055878,\n",
       " 1.1198410741024536,\n",
       " 1.1485938065969656,\n",
       " 1.1791518920823352,\n",
       " 1.2116194568293315,\n",
       " 1.2461087055458442,\n",
       " 1.282740556087485,\n",
       " 1.3216453319737977,\n",
       " 1.362963518175322,\n",
       " 1.4068465862021884,\n",
       " 1.4534578951513681,\n",
       " 1.5029736760641441,\n",
       " 1.5555841077157186,\n",
       " 1.6114944928138473,\n",
       " 1.670926544532917,\n",
       " 1.7341197943649773,\n",
       " 1.8013331334423035,\n",
       " 1.8728465007910773,\n",
       " 1.948962733428309,\n",
       " 2.0300095948318404,\n",
       " 2.116342000115901,\n",
       " 2.2083444582545058,\n",
       " 2.3064337539370623,\n",
       " 2.411061894143076,\n",
       " 2.522719347317662,\n",
       " 2.641938606152529,\n",
       " 2.769298108468686,\n",
       " 2.9054265546029905,\n",
       " 3.0510076640724813,\n",
       " 3.2067854191863976,\n",
       " 3.3735698487620227,\n",
       " 3.5522434112513666,\n",
       " 3.7437680434859004,\n",
       " 3.9491929489914823,\n",
       " 4.1696632085238985,\n",
       " 4.406429305249743,\n",
       " 4.660857667987306,\n",
       " 4.934442348285785,\n",
       " 5.228817961038499,\n",
       " 5.545774034000805,\n",
       " 5.887270929248709,\n",
       " 6.255457519533659,\n",
       " 6.652690824963823,\n",
       " 7.081557840814678,\n",
       " 7.544899815932531]"
      ]
     },
     "execution_count": 34,
     "metadata": {},
     "output_type": "execute_result"
    }
   ],
   "source": [
    "fita3"
   ]
  },
  {
   "cell_type": "markdown",
   "metadata": {},
   "source": [
    "Точное решение"
   ]
  },
  {
   "cell_type": "code",
   "execution_count": 35,
   "metadata": {},
   "outputs": [
    {
     "data": {
      "text/plain": [
       "[1.0,\n",
       " 1.0219670895643251,\n",
       " 1.0453627617366135,\n",
       " 1.070262589349306,\n",
       " 1.0967480459642254,\n",
       " 1.1249069452314617,\n",
       " 1.154833919993745,\n",
       " 1.1866309447576455,\n",
       " 1.2204079055229056,\n",
       " 1.2562832213699808,\n",
       " 1.2943845226578727,\n",
       " 1.3348493911844466,\n",
       " 1.377826168215169,\n",
       " 1.4234748368996668,\n",
       " 1.4719679862756125,\n",
       " 1.5234918648138185,\n",
       " 1.5782475322957363,\n",
       " 1.6364521197444188,\n",
       " 1.6983402081632686,\n",
       " 1.7641653379856963,\n",
       " 1.834201662416806,\n",
       " 1.9087457592707144,\n",
       " 1.9881186174913472,\n",
       " 2.0726678163098704,\n",
       " 2.162769916960172,\n",
       " 2.258833089069445,\n",
       " 2.3612999962916805,\n",
       " 2.470650968488862,\n",
       " 2.587407490822947,\n",
       " 2.712136043541055,\n",
       " 2.845452330061334,\n",
       " 2.9880259352482437,\n",
       " 3.1405854605607058,\n",
       " 3.3039241881291512,\n",
       " 3.4789063318411366,\n",
       " 3.6664739402724966,\n",
       " 3.8676545238856415,\n",
       " 4.083569487434819,\n",
       " 4.315443458090117,\n",
       " 4.564614610554387,\n",
       " 4.832546102555023,\n",
       " 5.120838747721676,\n",
       " 5.4312450682115445,\n",
       " 5.765684886743369,\n",
       " 6.126262637208424,\n",
       " 6.51528659503613,\n",
       " 6.935290253339224,\n",
       " 7.38905609893065]"
      ]
     },
     "execution_count": 35,
     "metadata": {},
     "output_type": "execute_result"
    }
   ],
   "source": [
    "y3 = [f_correct(i) for i in x3]\n",
    "y3"
   ]
  },
  {
   "cell_type": "code",
   "execution_count": 36,
   "metadata": {},
   "outputs": [
    {
     "data": {
      "text/plain": [
       "0.04459189925386806"
      ]
     },
     "execution_count": 36,
     "metadata": {},
     "output_type": "execute_result"
    }
   ],
   "source": [
    "error(y3, fita3)"
   ]
  },
  {
   "cell_type": "code",
   "execution_count": 37,
   "metadata": {},
   "outputs": [
    {
     "data": {
      "text/plain": [
       "<matplotlib.legend.Legend at 0x7fa77933c160>"
      ]
     },
     "execution_count": 37,
     "metadata": {},
     "output_type": "execute_result"
    },
    {
     "data": {
      "image/png": "[encoded data removed]",
      "text/plain": [
       "<Figure size 720x360 with 1 Axes>"
      ]
     },
     "metadata": {
      "needs_background": "light"
     },
     "output_type": "display_data"
    }
   ],
   "source": [
    "fig = plt.figure(figsize=(10, 5))\n",
    "\n",
    "plt.plot(x3, fita3, 'r', label = 'Linear Volterra 2')\n",
    "plt.plot(x3, y3, 'g', label = 'Exact solution')\n",
    "\n",
    "plt.xlabel('s')\n",
    "plt.ylabel('t')\n",
    "\n",
    "plt.title('Результаты приближенного решения линейного уравнения методом квадратур и точного решения')\n",
    "plt.legend()"
   ]
  },
  {
   "cell_type": "markdown",
   "metadata": {},
   "source": [
    "### Выводы\n",
    "    \n",
    "Выполнив данную курсовую работу, я научилась решать линейные уравнения Вольтерра 2-го рода методом квадратур.\n",
    "\n",
    "C удалением от точки a = 0 $t_i$ точек – точность уменьшается, что характерно и при численном нахождении решений задачи Коши для ОДУ с постоянным шагом при удалении от начальной точки."
   ]
  }
 ],
 "metadata": {
  "kernelspec": {
   "display_name": "Python 3",
   "language": "python",
   "name": "python3"
  },
  "language_info": {
   "codemirror_mode": {
    "name": "ipython",
    "version": 3
   },
   "file_extension": ".py",
   "mimetype": "text/x-python",
   "name": "python",
   "nbconvert_exporter": "python",
   "pygments_lexer": "ipython3",
   "version": "3.7.1"
  }
 },
 "nbformat": 4,
 "nbformat_minor": 4
}
