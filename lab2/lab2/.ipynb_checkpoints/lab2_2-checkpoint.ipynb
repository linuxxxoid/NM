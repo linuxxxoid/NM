{
 "cells": [
  {
   "cell_type": "markdown",
   "metadata": {},
   "source": [
    "##          Московский авиационный институт\n",
    "###      (Национальный исследовательский университет)\n",
    "####   Институт №8 «Информационные технологии и прикладная математика»\n",
    "####        Кафедра вычислительной математики и программирования\n",
    "\n",
    "  \n",
    " \n",
    " \n",
    "\n",
    "\n",
    "\n",
    "\n",
    "\n",
    "            Лабораторная работа № 2 (пункт 2)\n",
    "            по курсу «Численные методы».\n",
    "            \n",
    "            Тема: «Метод решения нелинейных уравнений\n",
    "            и систем нелинейных уравнений».\n",
    "\n",
    " \n",
    " \n",
    " \n",
    "\n",
    "\n",
    "\n",
    "\n",
    "\n",
    "\n",
    "\n",
    "                                  Студент: Вельтман Л.Я.\n",
    "                                  Группа: 80-307Б\n",
    "                                  Преподаватель: Ревизников Д.Л.\n",
    "\n",
    "\n",
    " \n",
    "\n",
    "                        Москва, 2020"
   ]
  },
  {
   "cell_type": "code",
   "execution_count": 1,
   "metadata": {},
   "outputs": [],
   "source": [
    "import numpy as np\n",
    "import math\n",
    "import matplotlib.pyplot as plt"
   ]
  },
  {
   "cell_type": "markdown",
   "metadata": {},
   "source": [
    "Определяем заданные функции по условию и ищем их производные."
   ]
  },
  {
   "cell_type": "code",
   "execution_count": 2,
   "metadata": {},
   "outputs": [],
   "source": [
    "def f1(x):\n",
    "    return x[0] ** 2 + x[1] ** 2 - 4\n",
    "\n",
    "def f2(x):\n",
    "    return x[0] - np.exp(x[1]) + 2\n",
    "\n",
    "def df1_x1(x):\n",
    "    return 2 * x[0]\n",
    "\n",
    "def df1_x2(x):\n",
    "    return 2 * x[1]\n",
    "\n",
    "def df2_x1(x):\n",
    "    return 1\n",
    "\n",
    "def df2_x2(x):\n",
    "    return - math.exp(x[1])\n",
    "\n",
    "a = -1.5\n",
    "b = 3.5"
   ]
  },
  {
   "cell_type": "markdown",
   "metadata": {},
   "source": [
    "Начальное значение определим графически."
   ]
  },
  {
   "cell_type": "code",
   "execution_count": 3,
   "metadata": {},
   "outputs": [
    {
     "data": {
      "text/plain": [
       "<matplotlib.contour.QuadContourSet at 0x7fc9eb3b7b38>"
      ]
     },
     "execution_count": 3,
     "metadata": {},
     "output_type": "execute_result"
    },
    {
     "data": {
      "image/png": "[encoded data removed]",
      "text/plain": [
       "<Figure size 432x288 with 1 Axes>"
      ]
     },
     "metadata": {
      "needs_background": "light"
     },
     "output_type": "display_data"
    }
   ],
   "source": [
    "x = np.arange(a, b, 0.01)\n",
    "y = np.arange(a, b, 0.01)\n",
    "x, y = np.meshgrid(x,y)\n",
    "z1 = x ** 2 + y ** 2 - 4\n",
    "z2 = x - np.exp(y) + 2\n",
    "plt.contour(x,y,z1,levels =0,colors = 'green' )\n",
    "plt.contour(x,y,z2,levels =0, colors = 'blue')\n"
   ]
  },
  {
   "cell_type": "code",
   "execution_count": 4,
   "metadata": {},
   "outputs": [
    {
     "data": {
      "text/plain": [
       "<matplotlib.contour.QuadContourSet at 0x7fc9ed260b00>"
      ]
     },
     "execution_count": 4,
     "metadata": {},
     "output_type": "execute_result"
    },
    {
     "data": {
      "image/png": "[encoded data removed]",
      "text/plain": [
       "<Figure size 432x288 with 1 Axes>"
      ]
     },
     "metadata": {
      "needs_background": "light"
     },
     "output_type": "display_data"
    }
   ],
   "source": [
    "x = np.arange(1.2,2,0.01)\n",
    "y = np.arange(1.1,1.4,0.01)\n",
    "x, y = np.meshgrid(x,y)\n",
    "z1 = x ** 2 + y ** 2 - 4\n",
    "z2 = x - np.exp(y) + 2\n",
    "plt.contour(x,y,z1,levels =0,colors = 'green' )\n",
    "plt.contour(x,y,z2,levels =0, colors = 'blue')"
   ]
  },
  {
   "cell_type": "markdown",
   "metadata": {},
   "source": [
    "Положительное решение находится в 1.5 < x1 < 1.6, 1.25 < x2 < 1.30\n"
   ]
  },
  {
   "cell_type": "markdown",
   "metadata": {},
   "source": [
    "Метод Ньютона\n"
   ]
  },
  {
   "cell_type": "code",
   "execution_count": 5,
   "metadata": {},
   "outputs": [],
   "source": [
    "def A1(x):\n",
    "    a = np.zeros((2,2), dtype=int)\n",
    "    a[0, 0] = f1(x)\n",
    "    a[1, 0] = f2(x)\n",
    "    a[0, 1] = df1_x2(x)\n",
    "    a[1, 1] = df2_x2(x)\n",
    "    return np.linalg.det(a)\n",
    "\n",
    "def A2(x):\n",
    "    a = np.zeros((2,2), dtype=int)\n",
    "    a[0, 0] = df1_x1(x)\n",
    "    a[1, 0] = df2_x1(x)\n",
    "    a[0, 1] = f1(x)\n",
    "    a[1, 1] = f2(x)\n",
    "    return np.linalg.det(a)\n",
    "\n",
    "def J(x):\n",
    "    a = np.zeros((2,2), dtype=int)\n",
    "    a[0, 0] = df1_x1(x)\n",
    "    a[1, 0] = df2_x1(x)\n",
    "    a[0, 1] = df1_x2(x)\n",
    "    a[1, 1] = df2_x2(x)\n",
    "    return np.linalg.det(a)"
   ]
  },
  {
   "cell_type": "code",
   "execution_count": 6,
   "metadata": {},
   "outputs": [],
   "source": [
    "def newton_next(x):\n",
    "    y = [0, 0]\n",
    "    y[0] = x[0] - A1(x) / J(x)\n",
    "    y[1] = x[1] - A2(x) / J(x)\n",
    "    return y\n",
    "\n",
    "\n",
    "def newton(a, b, eps):\n",
    "    count = 0\n",
    "    x = [a, b]\n",
    "    x_next = newton_next(x)\n",
    "    while max(abs(x[0] - x_next[0]), abs(x[1] - x_next[1])) > eps:\n",
    "        x = x_next\n",
    "        x_next = newton_next(x)\n",
    "        count += 1\n",
    "    return x_next, count"
   ]
  },
  {
   "cell_type": "code",
   "execution_count": 7,
   "metadata": {},
   "outputs": [
    {
     "data": {
      "text/plain": [
       "([1.7105783866057838, 1.300119591215482], 5)"
      ]
     },
     "execution_count": 7,
     "metadata": {},
     "output_type": "execute_result"
    }
   ],
   "source": [
    "a1 = 0.25\n",
    "b1 = 0.75\n",
    "newton(a1, b1, 0.001)"
   ]
  },
  {
   "cell_type": "code",
   "execution_count": 9,
   "metadata": {},
   "outputs": [],
   "source": [
    "def phi1(x):\n",
    "    return np.sqrt(4 - x[0] ** 2)\n",
    "    \n",
    "def phi2(x):\n",
    "    return np.exp(x[1]) - 2\n",
    "\n",
    "def dphi1_x1(x):\n",
    "    return - x[0] / (4 - x[0] ** 2)\n",
    "\n",
    "def dphi1_x2(x):\n",
    "    return 0\n",
    "\n",
    "def dphi2_x1(x):\n",
    "    return 0\n",
    "\n",
    "def dphi2_x2(x):\n",
    "    return np.exp(x[1])\n",
    "\n",
    "def find_q(x):\n",
    "    maxphi1 = dphi1_x1(x) + dphi1_x2(x)\n",
    "    maxphi2 = dphi2_x1(x) + dphi2_x2(x)\n",
    "    return max(maxphi1, maxphi2)"
   ]
  },
  {
   "cell_type": "code",
   "execution_count": 10,
   "metadata": {},
   "outputs": [
    {
     "data": {
      "text/plain": [
       "1.2214027581601699"
      ]
     },
     "execution_count": 10,
     "metadata": {},
     "output_type": "execute_result"
    }
   ],
   "source": [
    "a1 = 0.5\n",
    "b1 = 0.2\n",
    "x = [a1, b1]\n",
    "find_q(x)"
   ]
  },
  {
   "cell_type": "markdown",
   "metadata": {},
   "source": [
    "Метод простой итерации"
   ]
  },
  {
   "cell_type": "code",
   "execution_count": 11,
   "metadata": {},
   "outputs": [],
   "source": [
    "def iteration_next(x):\n",
    "    y = [0, 0]\n",
    "    y[0] = phi1(x)\n",
    "    y[1] = phi2(x)\n",
    "    return y\n",
    "\n",
    "def simple_iter(a, b, eps):\n",
    "    count = 0\n",
    "    x = [a, b]\n",
    "    q = find_q(x)\n",
    "    x_next = iteration_next(x)\n",
    "    while max([abs(i - j) for i, j in zip(x_next, x)]) * q / (1 - q) > eps:\n",
    "        x = x_next\n",
    "        x_next = iteration_next(x)\n",
    "        count += 1\n",
    "    return x_next, count"
   ]
  },
  {
   "cell_type": "code",
   "execution_count": 14,
   "metadata": {},
   "outputs": [
    {
     "data": {
      "text/plain": [
       "([1.3228756555322954, 0.7210014698815783], 0)"
      ]
     },
     "execution_count": 14,
     "metadata": {},
     "output_type": "execute_result"
    }
   ],
   "source": [
    "a1 = 1.5\n",
    "b1 = 1.001\n",
    "simple_iter(a1, b1, 0.00001)"
   ]
  },
  {
   "cell_type": "markdown",
   "metadata": {},
   "source": [
    "### Выводы\n",
    "\n",
    "Выполнив данную лабораторную работу, я изучила способы решения систем нелинейных уравнений с помощью методов Ньютона и простой итерации."
   ]
  }
 ],
 "metadata": {
  "kernelspec": {
   "display_name": "Python 3",
   "language": "python",
   "name": "python3"
  },
  "language_info": {
   "codemirror_mode": {
    "name": "ipython",
    "version": 3
   },
   "file_extension": ".py",
   "mimetype": "text/x-python",
   "name": "python",
   "nbconvert_exporter": "python",
   "pygments_lexer": "ipython3",
   "version": "3.7.1"
  }
 },
 "nbformat": 4,
 "nbformat_minor": 4
}
